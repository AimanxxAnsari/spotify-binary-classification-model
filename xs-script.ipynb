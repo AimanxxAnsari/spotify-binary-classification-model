{
 "cells": [
  {
   "cell_type": "code",
   "execution_count": null,
   "metadata": {},
   "outputs": [],
   "source": [
    "## TO-DO\n",
    "\n",
    "#import training and testing dataset\n",
    "#train rfr, combinational neural network, kmeans clustering\n",
    "\n",
    "##import seasonal data to visualize genre based on seasonality"
   ]
  }
 ],
 "metadata": {
  "language_info": {
   "name": "python"
  }
 },
 "nbformat": 4,
 "nbformat_minor": 2
}
